{
 "cells": [
  {
   "cell_type": "code",
   "execution_count": 1,
   "id": "2b62fa42-28fe-45a2-910f-e209ee27abbf",
   "metadata": {},
   "outputs": [],
   "source": [
    "import cv2\n",
    "import numpy as np\n",
    "import streamlit as st\n",
    "from tensorflow.keras.applications.mobilenet_v2 import preprocess_input\n",
    "from tensorflow.keras.preprocessing.image import img_to_array\n",
    "from IPython.display import display, Image\n",
    "\n",
    "# Simulated Damage Prediction\n",
    "def simulate_damage_prediction(frame):\n",
    "    resized = cv2.resize(frame, (224, 224))\n",
    "    image = img_to_array(resized)\n",
    "    image = np.expand_dims(image, axis=0)\n",
    "    image = preprocess_input(image)\n",
    "\n",
    "    confidence = np.random.rand()\n",
    "    label = \"Damaged\" if confidence > 0.5 else \"Not Damaged\"\n",
    "    color = (255, 0, 0) if label == \"Damaged\" else (0, 255, 0)\n",
    "    return label, confidence, color\n",
    "\n",
    "# Streamlit integration to show webcam feed in a notebook\n",
    "def streamlit_webcam():\n",
    "    st.title(\"🚗 Car Damage Detection via Webcam\")\n",
    "\n",
    "    run = st.checkbox('Start Webcam')\n",
    "\n",
    "    if run:\n",
    "        cap = cv2.VideoCapture(0)\n",
    "\n",
    "        # Loop until user stops webcam\n",
    "        while True:\n",
    "            ret, frame = cap.read()\n",
    "            if not ret:\n",
    "                st.error(\"❌ Failed to read from webcam.\")\n",
    "                break\n",
    "\n",
    "            frame = cv2.flip(frame, 1)  # Mirror the frame\n",
    "            label, confidence, color = simulate_damage_prediction(frame)\n",
    "            cv2.putText(frame, f'{label} ({confidence:.2f})', (10, 30),\n",
    "                        cv2.FONT_HERSHEY_SIMPLEX, 1, color, 2)\n",
    "\n",
    "            # Display frame in Streamlit\n",
    "            st.image(cv2.cvtColor(frame, cv2.COLOR_BGR2RGB))\n",
    "\n",
    "        cap.release()\n",
    "    else:\n",
    "        st.warning('Webcam is off.')\n"
   ]
  },
  {
   "cell_type": "code",
   "execution_count": null,
   "id": "e9908364-eeb0-40fd-bdca-dc99cccd7383",
   "metadata": {},
   "outputs": [],
   "source": []
  }
 ],
 "metadata": {
  "kernelspec": {
   "display_name": "Python 3 (ipykernel)",
   "language": "python",
   "name": "python3"
  },
  "language_info": {
   "codemirror_mode": {
    "name": "ipython",
    "version": 3
   },
   "file_extension": ".py",
   "mimetype": "text/x-python",
   "name": "python",
   "nbconvert_exporter": "python",
   "pygments_lexer": "ipython3",
   "version": "3.12.7"
  }
 },
 "nbformat": 4,
 "nbformat_minor": 5
}
